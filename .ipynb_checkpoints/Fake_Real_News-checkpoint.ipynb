{
 "cells": [
  {
   "cell_type": "code",
   "execution_count": null,
   "id": "3d8881a1-7ffc-4d83-9e49-cc3512cc3b21",
   "metadata": {},
   "outputs": [],
   "source": [
    "#identifying whether news is real or fake by using NLP and predicting it with Naive Bayes as a test model and Random forest\n",
    "# add pkgs\n"
   ]
  }
 ],
 "metadata": {
  "kernelspec": {
   "display_name": "Python 3",
   "language": "python",
   "name": "python3"
  },
  "language_info": {
   "codemirror_mode": {
    "name": "ipython",
    "version": 3
   },
   "file_extension": ".py",
   "mimetype": "text/x-python",
   "name": "python",
   "nbconvert_exporter": "python",
   "pygments_lexer": "ipython3",
   "version": "3.8.8"
  }
 },
 "nbformat": 4,
 "nbformat_minor": 5
}
